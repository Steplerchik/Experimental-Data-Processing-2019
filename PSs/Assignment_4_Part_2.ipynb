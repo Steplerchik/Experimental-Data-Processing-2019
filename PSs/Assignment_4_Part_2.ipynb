{
 "cells": [
  {
   "cell_type": "code",
   "execution_count": null,
   "metadata": {},
   "outputs": [],
   "source": [
    "# Group number 1\n",
    "# Determining and removing drawbacks of exponential and running mean. Task 2.II 3d surface filtration using forward-backward smoothing\n",
    "# Team members: Stepan Perminov, Polina Ponomareva, Kirill Shcherbakov, Daniil Svirskiy\n",
    "\n",
    "# Library importing\n",
    "from mpl_toolkits.mplot3d import Axes3D\n",
    "import matplotlib.pyplot as plt\n",
    "from matplotlib import cm\n",
    "from matplotlib.ticker import LinearLocator, FormatStrFormatter\n",
    "import numpy as np"
   ]
  },
  {
   "cell_type": "code",
   "execution_count": null,
   "metadata": {},
   "outputs": [],
   "source": [
    "# Noisy measurements\n",
    "z = np.loadtxt(fname = \"noisy_surface.txt\")\n",
    "\n",
    "# True surface values\n",
    "x = np.loadtxt(fname = \"true_surface.txt\")\n",
    "\n",
    "# Size of the surface\n",
    "n = len(z[:,0])\n",
    "\n",
    "# 3D Plots of the surfaces\n",
    "X = np.arange(n)\n",
    "Y = np.arange(n)\n",
    "X, Y = np.meshgrid(X, Y)\n",
    "\n",
    "fig = plt.figure()\n",
    "ax = fig.gca(projection='3d')\n",
    "\n",
    "surf = ax.plot_surface(X, Y, z,cmap=cm.jet,\n",
    "                       linewidth=0, antialiased=False)\n",
    "plt.rcParams[\"figure.figsize\"] = (30,30)"
   ]
  },
  {
   "cell_type": "code",
   "execution_count": null,
   "metadata": {},
   "outputs": [],
   "source": [
    "# The variance of deviation of noisy surface from the true one\n",
    "var = np.sum([i ** 2 for i in (x - z)])/(n**2-1)\n",
    "print(var)"
   ]
  },
  {
   "cell_type": "code",
   "execution_count": null,
   "metadata": {},
   "outputs": [],
   "source": [
    "# Exponential forward mean application (row)\n",
    "sm = np.zeros((n,n))\n",
    "sm[:,0] = z[:,0]\n",
    "alfa = 0.7\n",
    "\n",
    "for i in range(1,n):\n",
    "    sm[:,i] = sm[:,i-1] + alfa*(z[:,i] - sm[:,i-1])"
   ]
  },
  {
   "cell_type": "code",
   "execution_count": null,
   "metadata": {},
   "outputs": [],
   "source": [
    "# Exponential backward mean application (row)\n",
    "sm_b = np.zeros((n,n))\n",
    "sm_b[:,-1] = sm[:,-1]\n",
    "\n",
    "for i in reversed(range(n-1)):\n",
    "    sm_b[:,i] = sm_b[:,i+1] + alfa*(sm[:,i] - sm_b[:,i+1])"
   ]
  },
  {
   "cell_type": "code",
   "execution_count": null,
   "metadata": {},
   "outputs": [],
   "source": [
    "# Flip array in the up/down direction\n",
    "sm_b = np.flipud(sm_b)"
   ]
  },
  {
   "cell_type": "code",
   "execution_count": null,
   "metadata": {},
   "outputs": [],
   "source": [
    "# Exponential forward mean application (column)\n",
    "sm_b_sm = np.zeros((n,n))\n",
    "sm_b_sm[0,:] = sm_b[0,:]\n",
    "\n",
    "for i in range(1,n):\n",
    "    sm_b_sm[i,:] = sm_b_sm[i-1,:] + alfa*(sm_b[i,:] - sm_b_sm[i-1,:])"
   ]
  },
  {
   "cell_type": "code",
   "execution_count": null,
   "metadata": {},
   "outputs": [],
   "source": [
    "# Exponential backward mean application (column)\n",
    "sm_b_sm_b = np.zeros((n,n))\n",
    "sm_b_sm_b[-1,:] = sm_b_sm[-1,:]\n",
    "\n",
    "for i in reversed(range(n-1)):\n",
    "    sm_b_sm_b[i,:] = sm_b_sm_b[i+1,:] + alfa*(sm_b_sm[i,:] - sm_b_sm_b[i+1,:])"
   ]
  },
  {
   "cell_type": "code",
   "execution_count": null,
   "metadata": {},
   "outputs": [],
   "source": [
    "# Flip array in the up/down direction\n",
    "sm_b_sm_b = np.flipud(sm_b_sm_b)"
   ]
  },
  {
   "cell_type": "code",
   "execution_count": null,
   "metadata": {},
   "outputs": [],
   "source": [
    "# Comparison plot between true and reconstructed surfaces, and true and noisy measurements\n",
    "fig = plt.figure(figsize=(12,6))\n",
    "\n",
    "ax1 = fig.add_subplot(1,2,1, projection='3d')\n",
    "surf1 = ax1.plot_surface(X, Y, x, cmap=cm.jet, linewidth=0)\n",
    "ax1.set_title('True surface')\n",
    "ax1.set(xlabel='X number', ylabel='y number', zlabel='Value')\n",
    "fig.colorbar(surf1)\n",
    "\n",
    "# ax2 = fig.add_subplot(1,2,2 , projection='3d')\n",
    "# surf2 = ax2.plot_surface(X, Y, z, cmap=cm.jet, linewidth=0)\n",
    "# ax2.set_title('Noisy measurements of the surface')\n",
    "# ax2.set(xlabel='X number', ylabel='y number', zlabel='Value')\n",
    "# fig.colorbar(surf2)\n",
    "\n",
    "ax3 = fig.add_subplot(1,2,2 , projection='3d')\n",
    "surf3 = ax3.plot_surface(X, Y, sm_b_sm_b, cmap=cm.jet, linewidth=0)\n",
    "ax3.set_title('Reconstructed surface')\n",
    "ax3.set(xlabel='X number', ylabel='y number', zlabel='Value')\n",
    "fig.colorbar(surf3)\n",
    "\n",
    "plt.show()\n",
    "\n"
   ]
  },
  {
   "cell_type": "code",
   "execution_count": null,
   "metadata": {},
   "outputs": [],
   "source": [
    "# The variance of deviation of reconstructed surface from the true one\n",
    "var2 = np.sum([i ** 2 for i in (x - sm_b_sm_b)])/(n**2-1)\n",
    "print(var2)"
   ]
  }
 ],
 "metadata": {
  "kernelspec": {
   "display_name": "Python 2",
   "language": "python",
   "name": "python2"
  },
  "language_info": {
   "codemirror_mode": {
    "name": "ipython",
    "version": 2
   },
   "file_extension": ".py",
   "mimetype": "text/x-python",
   "name": "python",
   "nbconvert_exporter": "python",
   "pygments_lexer": "ipython2",
   "version": "2.7.15+"
  }
 },
 "nbformat": 4,
 "nbformat_minor": 2
}
