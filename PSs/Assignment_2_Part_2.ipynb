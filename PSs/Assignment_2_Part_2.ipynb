{
 "cells": [
  {
   "cell_type": "code",
   "execution_count": null,
   "metadata": {},
   "outputs": [],
   "source": [
    "# Group number 1\n",
    "# Comparison of the exponential and running mean for random walk model\n",
    "# Team members: Stepan Perminov, Polina Ponomareva, Kirill Shcherbakov, Daniil Svirskiy\n",
    "\n",
    "# Part 2\n",
    "\n",
    "# Library importing\n",
    "import numpy as np\n",
    "import matplotlib.pyplot as plt\n",
    "\n",
    "# Size of the trajectory\n",
    "n = 300\n",
    "\n",
    "# Initialization of arrays\n",
    "X = np.zeros((n,1))\n",
    "z = np.zeros((n,1))\n",
    "\n",
    "# Initial condition of the true trajectory X\n",
    "X[0] = 10\n",
    "\n",
    "# Variances\n",
    "sigma_w2 = 28.0**2\n",
    "sigma_et2 = 97.0**2\n",
    "\n",
    "# Generation of normally distributed random noises with zero mathematical expectation and corresponding variances\n",
    "w = np.random.normal(0, np.sqrt(sigma_w2), n-1)\n",
    "et = np.random.normal(0, np.sqrt(sigma_et2), n)\n",
    "\n",
    "# Generation of true trajectory X\n",
    "for i in range(len(X)-1):\n",
    "    X[i+1] = X[i] + w[i]\n",
    "\n",
    "# Generation of measurements z of the process X\n",
    "for i in range(len(z)):\n",
    "    z[i] = X[i] + et[i]"
   ]
  },
  {
   "cell_type": "code",
   "execution_count": null,
   "metadata": {},
   "outputs": [],
   "source": [
    "# Determination of optimal smoothing coefficient in exponential smoothing\n",
    "khi = sigma_w2 / sigma_et2\n",
    "alfa = (-khi + np.sqrt(khi**2 + 4*khi)) / 2\n",
    "\n",
    "# Determination of the window size M\n",
    "M = (2 - alfa) / alfa\n",
    "\n",
    "print(khi)\n",
    "print(alfa)\n",
    "print(M)"
   ]
  },
  {
   "cell_type": "code",
   "execution_count": null,
   "metadata": {},
   "outputs": [],
   "source": [
    "# Running mean application\n",
    "run_mean = np.zeros((n,1))\n",
    "\n",
    "# First 3 and last 3 measurements are replaced by corresponding average values\n",
    "beg_mean = np.sum(z[:3])/len(z[:3])\n",
    "end_mean = np.sum(z[len(z)-3:])/len(z[len(z)-3:])\n",
    "\n",
    "# Running mean calculation\n",
    "for i in range(len(z)):\n",
    "    if i <= 2:\n",
    "        run_mean[i] = beg_mean\n",
    "    elif i >= len(z)-3:\n",
    "        run_mean[i] = end_mean\n",
    "    else:\n",
    "        run_mean[i] = np.sum(z[i-3:i+4])/len(z[i-3:i+4])\n",
    "   "
   ]
  },
  {
   "cell_type": "code",
   "execution_count": null,
   "metadata": {},
   "outputs": [],
   "source": [
    "# Exponential mean application\n",
    "sm = np.zeros((n,1))\n",
    "sm[0] = z[0]\n",
    "\n",
    "for i in range(1,len(z)):\n",
    "    sm[i] = sm[i-1] + alfa*(z[i] - sm[i-1])"
   ]
  },
  {
   "cell_type": "code",
   "execution_count": null,
   "metadata": {},
   "outputs": [],
   "source": [
    "# Plotting of measurements, true values of process, running mean and exponential mean\n",
    "plt.plot(z, linewidth = 6, label = \"Measurements z\", color = \"y\")\n",
    "plt.plot(X, linewidth = 6, label = \"True values of process X\", color = \"c\")\n",
    "plt.plot(sm, linewidth = 6, label = \"Exponential mean\", color = \"g\")\n",
    "plt.plot(run_mean, linewidth = 6, label = \"Running mean\", color = \"r\")\n",
    "plt.legend(fontsize = 80)\n",
    "plt.rcParams[\"figure.figsize\"] = (50,40)\n",
    "plt.tick_params(labelsize = 60)\n",
    "plt.grid()\n",
    "plt.xlabel(\"Points\", fontsize = 80)\n",
    "plt.ylabel(\"Values of processes\", fontsize = 80)\n",
    "plt.title(\"Comparison of processes\\n\", fontsize = 80)\n",
    "plt.show()"
   ]
  }
 ],
 "metadata": {
  "kernelspec": {
   "display_name": "Python 2",
   "language": "python",
   "name": "python2"
  },
  "language_info": {
   "codemirror_mode": {
    "name": "ipython",
    "version": 2
   },
   "file_extension": ".py",
   "mimetype": "text/x-python",
   "name": "python",
   "nbconvert_exporter": "python",
   "pygments_lexer": "ipython2",
   "version": "2.7.15+"
  }
 },
 "nbformat": 4,
 "nbformat_minor": 2
}
