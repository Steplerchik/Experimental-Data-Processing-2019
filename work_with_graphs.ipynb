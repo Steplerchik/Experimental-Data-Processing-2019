{
 "cells": [
  {
   "cell_type": "code",
   "execution_count": 16,
   "metadata": {
    "pycharm": {
     "is_executing": false,
     "name": "#%%\n"
    }
   },
   "outputs": [
    {
     "name": "stdout",
     "text": [
      "['x', 'y', 4, 5, 6]\n"
     ],
     "output_type": "stream"
    }
   ],
   "source": [
    "# Library importing\n",
    "import networkx as nx\n",
    "nd_list = []\n",
    "G=nx.DiGraph()\n",
    "G.add_edge(\"x\",\"y\")\n",
    "G.add_edge(\"y\",4)\n",
    "G.add_edge(\"y\",5)\n",
    "G.add_edge(4,6)\n",
    "nd_list.append(\"x\")\n",
    "nd_list.append(\"y\")\n",
    "nd_list.append(4)\n",
    "nd_list.append(5)\n",
    "nd_list.append(6)\n",
    "print(nd_list)"
   ]
  },
  {
   "cell_type": "code",
   "execution_count": 17,
   "metadata": {
    "pycharm": {
     "is_executing": false,
     "name": "#%%\n"
    }
   },
   "outputs": [],
   "source": [
    "r = '#b41f1f'\n",
    "g = '#1fb41f'\n",
    "b = '#1f1fb4'\n",
    "# nd_color = [\"red\", \"red\", \"blue\"]\n",
    "# nd_color = ['red' if node=='SequenceWithMemoryNode0' else 'blue' for node in G.nodes()]"
   ]
  },
  {
   "cell_type": "code",
   "execution_count": 26,
   "metadata": {
    "pycharm": {
     "is_executing": false,
     "name": "#%%\n"
    }
   },
   "outputs": [
    {
     "name": "stdout",
     "text": [
      "['SequenceWithMemoryNode0', 'SequenceWithMemoryNode2', 'ActionNode1', 'Calibrate3', 'ActionNode4']\n",
      "SequenceWithMemoryNode0\n",
      "SequenceWithMemoryNode2\n",
      "ActionNode1\n",
      "Calibrate3\n",
      "ActionNode4\n",
      "['red', 'green', 'blue', 'green', 'green']\n",
      "5\n",
      "['SequenceWithMemoryNode0', 'SequenceWithMemoryNode2', 'ActionNode1', 'Calibrate3', 'ActionNode4']\n",
      "['SequenceWithMemoryNode0', 'SequenceWithMemoryNode2', 'ActionNode1', 'Calibrate3', 'ActionNode4']\n"
     ],
     "output_type": "stream"
    },
    {
     "ename": "KeyError",
     "evalue": "0",
     "traceback": [
      "\u001b[0;31m\u001b[0m",
      "\u001b[0;31mKeyError\u001b[0mTraceback (most recent call last)",
      "\u001b[0;32m<ipython-input-26-f3b3655efabb>\u001b[0m in \u001b[0;36m<module>\u001b[0;34m()\u001b[0m\n\u001b[1;32m     95\u001b[0m \u001b[0mmakaka\u001b[0m \u001b[0;34m=\u001b[0m \u001b[0mG\u001b[0m\u001b[0;34m.\u001b[0m\u001b[0mnodes\u001b[0m\u001b[0;34m(\u001b[0m\u001b[0;34m)\u001b[0m\u001b[0;34m\u001b[0m\u001b[0m\n\u001b[1;32m     96\u001b[0m \u001b[0;32mprint\u001b[0m \u001b[0mmakaka\u001b[0m\u001b[0;34m\u001b[0m\u001b[0m\n\u001b[0;32m---> 97\u001b[0;31m \u001b[0;32mprint\u001b[0m \u001b[0mmakaka\u001b[0m\u001b[0;34m[\u001b[0m\u001b[0;36m0\u001b[0m\u001b[0;34m]\u001b[0m\u001b[0;34m\u001b[0m\u001b[0m\n\u001b[0m\u001b[1;32m     98\u001b[0m \u001b[0;34m\u001b[0m\u001b[0m\n",
      "\u001b[0;32m/home/steplerchik/PycharmProjects/Ass10/venv/local/lib/python2.7/site-packages/networkx/classes/reportviews.pyc\u001b[0m in \u001b[0;36m__getitem__\u001b[0;34m(self, n)\u001b[0m\n\u001b[1;32m    176\u001b[0m \u001b[0;34m\u001b[0m\u001b[0m\n\u001b[1;32m    177\u001b[0m     \u001b[0;32mdef\u001b[0m \u001b[0m__getitem__\u001b[0m\u001b[0;34m(\u001b[0m\u001b[0mself\u001b[0m\u001b[0;34m,\u001b[0m \u001b[0mn\u001b[0m\u001b[0;34m)\u001b[0m\u001b[0;34m:\u001b[0m\u001b[0;34m\u001b[0m\u001b[0m\n\u001b[0;32m--> 178\u001b[0;31m         \u001b[0;32mreturn\u001b[0m \u001b[0mself\u001b[0m\u001b[0;34m.\u001b[0m\u001b[0m_nodes\u001b[0m\u001b[0;34m[\u001b[0m\u001b[0mn\u001b[0m\u001b[0;34m]\u001b[0m\u001b[0;34m\u001b[0m\u001b[0m\n\u001b[0m\u001b[1;32m    179\u001b[0m \u001b[0;34m\u001b[0m\u001b[0m\n\u001b[1;32m    180\u001b[0m     \u001b[0;31m# Set methods\u001b[0m\u001b[0;34m\u001b[0m\u001b[0;34m\u001b[0m\u001b[0m\n",
      "\u001b[0;31mKeyError\u001b[0m: 0"
     ],
     "output_type": "error"
    },
    {
     "data": {
      "image/png": "[encoded data removed]",
      "text/plain": "<Figure size 432x288 with 1 Axes>"
     },
     "metadata": {},
     "output_type": "display_data"
    }
   ],
   "source": [
    "def hierarchy_pos(G, root=None, width=1., vert_gap = 0.2, vert_loc = 0, xcenter = 0.5):\n",
    "\n",
    "    '''\n",
    "    From Joel's answer at https://stackoverflow.com/a/29597209/2966723.  \n",
    "    Licensed under Creative Commons Attribution-Share Alike \n",
    "\n",
    "    If the graph is a tree this will return the positions to plot this in a \n",
    "    hierarchical layout.\n",
    "\n",
    "    G: the graph (must be a tree)\n",
    "\n",
    "    root: the root node of current branch \n",
    "    - if the tree is directed and this is given, then \n",
    "      the positions will be just for the descendants of this node.\n",
    "    - if the tree is undirected and not given, \n",
    "      then a random choice will be used.\n",
    "\n",
    "    width: horizontal space allocated for this branch - avoids overlap with other branches\n",
    "\n",
    "    vert_gap: gap between levels of hierarchy\n",
    "\n",
    "    vert_loc: vertical location of root\n",
    "\n",
    "    xcenter: horizontal location of root\n",
    "    '''\n",
    "    root = next(iter(nx.topological_sort(G)))\n",
    "\n",
    "    def _hierarchy_pos(G, root, width=1., vert_gap = 0.2, vert_loc = 0, xcenter = 0.5, pos = None, parent = None):\n",
    "        '''\n",
    "        see hierarchy_pos docstring for most arguments\n",
    "\n",
    "        pos: a dict saying where all nodes go if they have been assigned\n",
    "        parent: parent of this branch. - only affects it if non-directed\n",
    "\n",
    "        '''\n",
    "\n",
    "        if pos is None:\n",
    "            pos = {root:(xcenter,vert_loc)}\n",
    "        else:\n",
    "            pos[root] = (xcenter, vert_loc)\n",
    "        children = list(G.neighbors(root))\n",
    "        if not isinstance(G, nx.DiGraph) and parent is not None:\n",
    "            children.remove(parent)  \n",
    "        if len(children)!=0:\n",
    "            dx = width/len(children) \n",
    "            nextx = xcenter - width/2 - dx/2\n",
    "            for child in children:\n",
    "                nextx += dx\n",
    "                pos = _hierarchy_pos(G,child, width = dx, vert_gap = vert_gap, \n",
    "                                    vert_loc = vert_loc-vert_gap, xcenter=nextx,\n",
    "                                    pos=pos, parent = root)\n",
    "        return pos\n",
    "\n",
    "\n",
    "    return _hierarchy_pos(G, root, width, vert_gap, vert_loc, xcenter)\n",
    "\n",
    "import matplotlib.pyplot as plt\n",
    "G=nx.DiGraph()\n",
    "# G.add_edges_from([(1,2), (1,3), (1,4), (2,5), (2,6), (2,7), (3,8), (3,9), (4,10),\n",
    "#                   (5,11), (5,12), (6,13)])\n",
    "# G.add_edges_from([[1,2], [1,3]])\n",
    "\n",
    "\n",
    "\n",
    "# massiv = ['SequenceWithMemoryNode0', 'ActionNode1', 'SequenceWithMemoryNode2', 'Calibrate3', 'ActionNode4']\n",
    "massiv = []\n",
    "G.add_edges_from([['SequenceWithMemoryNode0', 'ActionNode1'], ['SequenceWithMemoryNode0', 'SequenceWithMemoryNode2'], ['SequenceWithMemoryNode2', 'Calibrate3'], ['SequenceWithMemoryNode2', 'ActionNode4']])\n",
    "for node in G:\n",
    "    massiv.append(node)\n",
    "print massiv\n",
    "nd_color = [0 for i in range(len(G))]\n",
    "for node in G:\n",
    "    if node == 'SequenceWithMemoryNode' + str(0):\n",
    "        nd_color[massiv.index(node)] = 'red'\n",
    "    elif node == 'ActionNode1':\n",
    "        nd_color[massiv.index(node)] = 'blue'\n",
    "    else:\n",
    "        nd_color[massiv.index(node)] = 'green'\n",
    "\n",
    "# for n in G.nodes():\n",
    "#     G.nodes[n]['color'] = 'b' if n == 'SequenceWithMemoryNode0' else 'g'\n",
    "# colors = [node[1]['color'] for node in G.nodes(data=True)]\n",
    "pos = hierarchy_pos(G,1)    \n",
    "plt.title('main_robot_bt')\n",
    "nx.draw(G, pos=pos, with_labels=True, node_color=nd_color)\n",
    "# nx.draw(G, pos=pos, with_labels=True)\n",
    "plt.savefig('/home/steplerchik/Desktop/main_bt.png')\n",
    "\n",
    "for node in G:\n",
    "    print node\n",
    "print nd_color\n",
    "print(len(G))\n",
    "print G.nodes()\n",
    "makaka = G.nodes()\n",
    "print makaka\n",
    "print makaka[0]"
   ]
  },
  {
   "cell_type": "code",
   "execution_count": 15,
   "metadata": {
    "pycharm": {
     "is_executing": false,
     "name": "#%%\n"
    }
   },
   "outputs": [],
   "source": [
    "import os, glob\n",
    "import subprocess\n",
    "\n",
    "path = '/home/steplerchik/Desktop/'\n",
    "for infile in glob.glob( os.path.join(path, 'main_bt.png')):\n",
    "    viewer = subprocess.Popen(['gvfs-open', infile])\n",
    "    # viewer.terminate()\n",
    "    # viewer.kill()"
   ]
  },
  {
   "cell_type": "code",
   "execution_count": 9,
   "metadata": {
    "pycharm": {
     "name": "#%%\n",
     "is_executing": false
    }
   },
   "outputs": [
    {
     "name": "stdout",
     "text": [
      "1\n"
     ],
     "output_type": "stream"
    }
   ],
   "source": [
    "t = []\n",
    "p = [3,4]\n",
    "# t.append(p)\n",
    "# print(t)\n",
    "print p.index(4)"
   ]
  },
  {
   "cell_type": "code",
   "execution_count": 5,
   "metadata": {
    "pycharm": {
     "is_executing": false
    }
   },
   "outputs": [],
   "source": [
    "level =0\n",
    "t = [0 for x in range(100)]\n",
    "t[level] = 'srat'"
   ]
  },
  {
   "cell_type": "code",
   "execution_count": 8,
   "outputs": [
    {
     "name": "stdout",
     "text": [
      "suk\n"
     ],
     "output_type": "stream"
    }
   ],
   "source": [
    "\n",
    "appa = ['stepka', 'nastya']\n",
    "if appa[0][0] == 's':\n",
    "    print 'suk'"
   ],
   "metadata": {
    "collapsed": false,
    "pycharm": {
     "name": "#%%\n",
     "is_executing": false
    }
   }
  },
  {
   "cell_type": "code",
   "execution_count": 19,
   "outputs": [
    {
     "data": {
      "image/png": "[encoded data removed]",
      "text/plain": "<Figure size 576x576 with 1 Axes>"
     },
     "metadata": {},
     "output_type": "display_data"
    }
   ],
   "source": [
    "import matplotlib.pyplot as plt\n",
    "import networkx as nx\n",
    "\n",
    "try:\n",
    "    import pygraphviz\n",
    "    from networkx.drawing.nx_agraph import graphviz_layout\n",
    "except ImportError:\n",
    "    try:\n",
    "        import pydot\n",
    "        from networkx.drawing.nx_pydot import graphviz_layout\n",
    "    except ImportError:\n",
    "        raise ImportError(\"This example needs Graphviz and either \"\n",
    "                          \"PyGraphviz or pydot\")\n",
    "\n",
    "# G = nx.balanced_tree(3, 5)\n",
    "G=nx.DiGraph()\n",
    "G.add_edges_from([['SequenceWithMemoryNode0', 'ActionNode1'], ['SequenceWithMemoryNode0', 'SequenceWithMemoryNode2'], ['SequenceWithMemoryNode2', 'Calibrate3'], ['SequenceWithMemoryNode2', 'ActionNode4']])\n",
    "\n",
    "pos = graphviz_layout(G, prog='twopi', args='')\n",
    "plt.figure(figsize=(8, 8))\n",
    "nx.draw(G, pos, node_size=100, alpha=0.5, node_color=\"blue\", with_labels=True)\n",
    "# plt.axis('equal')\n",
    "plt.show()\n"
   ],
   "metadata": {
    "collapsed": false,
    "pycharm": {
     "name": "#%%\n",
     "is_executing": false
    }
   }
  },
  {
   "cell_type": "code",
   "execution_count": 8,
   "outputs": [
    {
     "name": "stdout",
     "text": [
      "4\n",
      "{'y': 3, 'x': 4}\n"
     ],
     "output_type": "stream"
    }
   ],
   "source": [
    "class SuperClass(object):\n",
    "    def __init__(self, x):\n",
    "        self.x = x\n",
    "        \n",
    "class SubClass(SuperClass):\n",
    "    def __init__(self, y):\n",
    "        self.y = y\n",
    "        super(SubClass, self).__init__(y+1)\n",
    "        print self.x\n",
    "\n",
    "if __name__ == \"__main__\":\n",
    "    a = SubClass(3)\n",
    "    print a.__dict__\n"
   ],
   "metadata": {
    "collapsed": false,
    "pycharm": {
     "name": "#%%\n",
     "is_executing": false
    }
   }
  },
  {
   "cell_type": "code",
   "execution_count": 18,
   "outputs": [],
   "source": [
    "import pygraphviz\n",
    "import networkx as nx\n",
    "G = nx.Graph()\n",
    "G.add_node(\"ROOT\")\n",
    "for i in xrange(5):\n",
    "    G.add_node(\"Child_%i\" % i)\n",
    "    G.add_node(\"Grandchild_%i\" % i)\n",
    "    G.add_node(\"Greatgrandchild_%i\" % i)\n",
    "    G.add_edge(\"ROOT\", \"Child_%i\" % i)\n",
    "    G.add_edge(\"Child_%i\" % i, \"Grandchild_%i\" % i)\n",
    "    G.add_edge(\"Grandchild_%i\" % i, \"Greatgrandchild_%i\" % i)\n",
    "\n",
    "A = nx.nx_agraph.to_agraph(G)\n",
    "A.layout('dot', args='-Nfontsize=10 -Gfontsize=8')\n",
    "A.draw('test.png')"
   ],
   "metadata": {
    "collapsed": false,
    "pycharm": {
     "name": "#%%\n",
     "is_executing": false
    }
   }
  },
  {
   "cell_type": "code",
   "execution_count": 89,
   "outputs": [
    {
     "name": "stdout",
     "text": [
      "[('we', 'er'), ('rt', 'ty'), ('typ', 'ryofyu')]\n",
      "we er, rt ty, typ ryofyu\n",
      "<type 'str'>\n",
      "[('we', 'er'), ('rt', 'ty'), ('typ', 'ryofyu')]\n"
     ],
     "output_type": "stream"
    }
   ],
   "source": [
    "# List od strings\n",
    "t2 = ['steady', 'ready', 'go']\n",
    "# To str\n",
    "t22 = ', '.join(t2)\n",
    "# Back to list\n",
    "t33 = t22.split(', ')\n",
    "\n",
    "# List of tuples\n",
    "p = [('we', 'er'), ('rt', 'ty'), ('typ', 'ryofyu')]\n",
    "# To str\n",
    "p1 = [' '.join(sub) for sub in p]\n",
    "p3 = ', '.join(p1)\n",
    "# Back to list of tuples\n",
    "p4 = p3.split(', ')\n",
    "p2 = [tuple(sub.split(' ')) for sub in p4]\n",
    "print p\n",
    "print p3\n",
    "print type(p3)\n",
    "print p2"
   ],
   "metadata": {
    "collapsed": false,
    "pycharm": {
     "name": "#%%\n",
     "is_executing": false
    }
   }
  },
  {
   "cell_type": "code",
   "execution_count": 65,
   "outputs": [],
   "source": [],
   "metadata": {
    "collapsed": false,
    "pycharm": {
     "name": "#%%\n",
     "is_executing": false
    }
   }
  },
  {
   "cell_type": "code",
   "execution_count": 6,
   "outputs": [
    {
     "name": "stdout",
     "text": [
      "0 1 0 0 1\n"
     ],
     "output_type": "stream"
    }
   ],
   "source": [
    "my_list = [0, 1, 0, 0, 1]\n",
    "\n",
    "print \" \".join(map(str, my_list))"
   ],
   "metadata": {
    "collapsed": false,
    "pycharm": {
     "name": "#%%\n",
     "is_executing": false
    }
   }
  },
  {
   "cell_type": "code",
   "execution_count": null,
   "outputs": [],
   "source": [
    "\n"
   ],
   "metadata": {
    "collapsed": false,
    "pycharm": {
     "name": "#%%\n"
    }
   }
  }
 ],
 "metadata": {
  "kernelspec": {
   "display_name": "Python 2",
   "language": "python",
   "name": "python2"
  },
  "language_info": {
   "codemirror_mode": {
    "name": "ipython",
    "version": 2
   },
   "file_extension": ".py",
   "mimetype": "text/x-python",
   "name": "python",
   "nbconvert_exporter": "python",
   "pygments_lexer": "ipython2",
   "version": "2.7.12"
  },
  "pycharm": {
   "stem_cell": {
    "cell_type": "raw",
    "source": [],
    "metadata": {
     "collapsed": false
    }
   }
  }
 },
 "nbformat": 4,
 "nbformat_minor": 1
}